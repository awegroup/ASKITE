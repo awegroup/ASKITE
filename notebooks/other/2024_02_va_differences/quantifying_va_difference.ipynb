{
 "cells": [
  {
   "cell_type": "code",
   "execution_count": 13,
   "metadata": {},
   "outputs": [
    {
     "name": "stdout",
     "output_type": "stream",
     "text": [
      "vw              = 10 m/s\n",
      "r               = 50 m\n",
      "sec_per_rotation= 10 s\n",
      "omega           = 0.63 rad/s\n",
      "kite_span       = 8.45 m\n",
      " \n",
      "Inboard - r: 45.775 m\n",
      "v_inboard       = 28.76 m/s\n",
      "va_inboard      = 30.45 m/s\n",
      "alpha_inboard   = 19.17 degrees\n",
      "lift            = 23880.33 N\n",
      "drag            = 5709.13 N\n",
      " \n",
      "Outboard - r: 54.225 m\n",
      "v_outboard      = 34.07 m/s\n",
      "va_outboard     = 35.51 m/s\n",
      "alpha_outboard  = 16.36 degrees\n",
      "lift            = 27704.82 N\n",
      "drag            = 5693.10 N\n"
     ]
    }
   ],
   "source": [
    "import numpy as np\n",
    "\n",
    "\n",
    "def lift(alpha, rho, va, S):\n",
    "    CL = np.pi * 2 * alpha\n",
    "    return 0.5 * rho * va**2 * S * CL\n",
    "\n",
    "\n",
    "def drag(alpha, rho, va, S, e, AR):\n",
    "    CL = np.pi * 2 * alpha\n",
    "    CD = 0.01 + (CL**2) / (np.pi * e * AR)\n",
    "    return 0.5 * rho * va**2 * S * CD\n",
    "\n",
    "\n",
    "rho = 1.225\n",
    "S = 20  # surface area of the kite\n",
    "e = 0.8  # Oswald efficiency factor\n",
    "vw = 10\n",
    "r = 50\n",
    "seconds_per_rotation = 10\n",
    "omega = np.pi * 2 / seconds_per_rotation\n",
    "kite_span = 6.5 * 1.3\n",
    "AR = kite_span**2 / S\n",
    "\n",
    "v_inboard = omega * (r - kite_span / 2)\n",
    "va_inboard = np.sqrt(v_inboard**2 + vw**2)\n",
    "alpha_inboard = np.arctan(vw / v_inboard)\n",
    "\n",
    "v_outboard = omega * (r + kite_span / 2)\n",
    "va_outboard = np.sqrt(v_outboard**2 + vw**2)\n",
    "alpha_outboard = np.arctan(vw / v_outboard)\n",
    "\n",
    "print(f\"vw              = {vw} m/s\")\n",
    "print(f\"r               = {r} m\")\n",
    "print(f\"sec_per_rotation= {seconds_per_rotation} s\")\n",
    "print(f\"omega           = {omega:.2f} rad/s\")\n",
    "print(f\"kite_span       = {kite_span:.2f} m\")\n",
    "print(f\" \")\n",
    "print(f\"Inboard - r: {r - kite_span / 2} m\")\n",
    "print(f\"v_inboard       = {v_inboard:.2f} m/s\")\n",
    "print(f\"va_inboard      = {va_inboard:.2f} m/s\")\n",
    "print(f\"alpha_inboard   = {alpha_inboard*180/np.pi:.2f} degrees\")\n",
    "print(f\"lift            = {lift(alpha_inboard, rho, va_inboard, S):.2f} N\")\n",
    "print(f\"drag            = {drag(alpha_inboard, rho, va_inboard, S, e, AR):.2f} N\")\n",
    "print(f\" \")\n",
    "print(f\"Outboard - r: {r + kite_span / 2} m\")\n",
    "print(f\"v_outboard      = {v_outboard:.2f} m/s\")\n",
    "print(f\"va_outboard     = {va_outboard:.2f} m/s\")\n",
    "print(f\"alpha_outboard  = {alpha_outboard*180/np.pi:.2f} degrees\")\n",
    "print(f\"lift            = {lift(alpha_outboard, rho, va_outboard, S):.2f} N\")\n",
    "print(f\"drag            = {drag(alpha_outboard, rho, va_outboard, S, e, AR):.2f} N\")"
   ]
  }
 ],
 "metadata": {
  "kernelspec": {
   "display_name": "Python 3",
   "language": "python",
   "name": "python3"
  },
  "language_info": {
   "codemirror_mode": {
    "name": "ipython",
    "version": 3
   },
   "file_extension": ".py",
   "mimetype": "text/x-python",
   "name": "python",
   "nbconvert_exporter": "python",
   "pygments_lexer": "ipython3",
   "version": "3.11.6"
  }
 },
 "nbformat": 4,
 "nbformat_minor": 2
}
