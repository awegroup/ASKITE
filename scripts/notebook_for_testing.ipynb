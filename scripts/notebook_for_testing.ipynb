{
 "cells": [
  {
   "cell_type": "code",
   "execution_count": null,
   "metadata": {},
   "outputs": [],
   "source": [
    "import sympy as sp\n",
    "\n",
    "# Define the symbols\n",
    "A, B, C, D, E, x = sp.symbols('A B C D E x')\n",
    "\n",
    "# Define specific values for A, B, C, D, and E\n",
    "A_value = 22#m\n",
    "B_value = 28 #v\n",
    "C_value = 2000 #Fa,x\n",
    "D_value = 200 #Lt\n",
    "E_value = 8000 #Fa,z\n",
    "\n",
    "# Define the equation\n",
    "equation = sp.Eq(A * (B**2 / x), C * sp.tan(sp.asin(x / D)) + E)\n",
    "\n",
    "\n",
    "# Substitute the specific values\n",
    "equation_with_values = equation.subs({A: A_value, B: B_value, C: C_value, D: D_value, E: E_value})\n",
    "\n",
    "# Solve the equation for x\n",
    "solutions = sp.solve(equation_with_values, x)\n",
    "\n",
    "# # Print the solutions\n",
    "# print(solutions)\n",
    "\n",
    "# Substitute the specific values into the solutions and evaluate them numerically\n",
    "numerical_solutions = [sol.evalf(subs={A: A_value, B: B_value, C: C_value, D: D_value, E: E_value}) for sol in solutions]\n",
    "\n",
    "# Print the numerical solutions\n",
    "print(numerical_solutions)\n",
    "\n",
    "for sol in numerical_solutions:\n",
    "    if sp.re(sol) >= 0:\n",
    "        solution_sympy = sp.re(sol)\n",
    "        print(sp.re(sol))"
   ]
  },
  {
   "cell_type": "markdown",
   "metadata": {},
   "source": [
    "We now have a solution, let's try to Wolfram Alpha's solution\n"
   ]
  },
  {
   "cell_type": "code",
   "execution_count": null,
   "metadata": {},
   "outputs": [],
   "source": [
    "# Define the equation\n",
    "expression = (A * E * B**2)/(2 * (C**2 + E**2)) - (1/2) * sp.sqrt(\n",
    "    (A**2 * E**2 * B**4)/(C**2 + E**2)**2 -\n",
    "    (2 * (A**2 * B**4 - D**2 * E**2))/(3 * (C**2 + E**2)) +\n",
    "    (A**6 * B**12 + 36 * A**4 * C**2 * D**2 * B**8 - 3 * A**4 * D**2 * E**2 * B**8 +\n",
    "     3 * A**2 * D**4 * E**4 * B**4 + 18 * A**2 * C**2 * D**4 * E**2 * B**4 -\n",
    "     D**6 * E**6 + 6 * sp.sqrt(3) * sp.sqrt(\n",
    "         A**10 * C**2 * D**2 * B**20 + 8 * A**8 * C**4 * D**4 * B**16 -\n",
    "         3 * A**8 * C**2 * D**4 * E**2 * B**16 + 16 * A**6 * C**6 * D**6 * B**12 +\n",
    "         3 * A**6 * C**2 * D**6 * E**4 * B**12 + 20 * A**6 * C**4 * D**6 * E**2 * B**12 -\n",
    "         A**4 * C**2 * D**8 * E**6 * B**8 - A**4 * C**4 * D**8 * E**4 * B**8))**(1/3) /\n",
    "    (3 * (C**6 + 3 * E**2 * C**4 + 3 * E**4 * C**2 + E**6)**(1/3)) +\n",
    "    ((A**4 * B**8 - 12 * A**2 * C**2 * D**2 * B**4 - 2 * A**2 * D**2 * E**2 * B**4 +\n",
    "      D**4 * E**4) * (C**6 + 3 * E**2 * C**4 + 3 * E**4 * C**2 + E**6)**(1/3)) /\n",
    "    (3 * (C**2 + E**2)**2 *\n",
    "     (A**6 * B**12 + 36 * A**4 * C**2 * D**2 * B**8 - 3 * A**4 * D**2 * E**2 * B**8 +\n",
    "      3 * A**2 * D**4 * E**4 * B**4 + 18 * A**2 * C**2 * D**4 * E**2 * B**4 -\n",
    "      D**6 * E**6 + 6 * sp.sqrt(3) * sp.sqrt(\n",
    "          A**10 * C**2 * D**2 * B**20 + 8 * A**8 * C**4 * D**4 * B**16 -\n",
    "          3 * A**8 * C**2 * D**4 * E**2 * B**16 + 16 * A**6 * C**6 * D**6 * B**12 +\n",
    "          3 * A**6 * C**2 * D**6 * E**4 * B**12 + 20 * A**6 * C**4 * D**6 * E**2 * B**12 -\n",
    "          A**4 * C**2 * D**8 * E**6 * B**8 - A**4 * C**4 * D**8 * E**4 * B**8))**(1/3)))\n",
    "\n",
    "# Substitute the specific numerical values into the equation and evaluate it numerically\n",
    "numerical_result = expression.subs({A: A_value, B: B_value, C: C_value, D: D_value, E: E_value}).evalf()\n",
    "\n",
    "# Print the numerical result\n",
    "print(numerical_result)"
   ]
  },
  {
   "cell_type": "markdown",
   "metadata": {},
   "source": [
    "Let's try to solve the equation directly like Wolfram's alphas\n"
   ]
  },
  {
   "cell_type": "code",
   "execution_count": null,
   "metadata": {},
   "outputs": [],
   "source": [
    "import numpy as np\n",
    "from scipy.optimize import root\n",
    "\n",
    "# Define the function to find roots for\n",
    "def equation_to_solve(r_0, m_kite, v_kite, length_tether, force_aero_xwind, force_aero_zwind):\n",
    "    return m_kite * (v_kite**2 / r_0) - force_aero_xwind * np.tan(np.arcsin(r_0 / length_tether)) - force_aero_zwind\n",
    "\n",
    "# Defining the variables\n",
    "m_kite = 22 # kg\n",
    "v_kite = 28 # m/s\n",
    "length_tether = 200 # m\n",
    "force_aero_xwind = 8000 # N\n",
    "force_aero_zwind = 3000 # N\n",
    "\n",
    "# Initial guess for the root\n",
    "r_0_initial_guess = 20\n",
    "\n",
    "# Find the root numerically and get full output\n",
    "result = root(equation_to_solve, r_0_initial_guess, args=(m_kite, v_kite, length_tether, force_aero_xwind, force_aero_zwind), method='hybr')\n",
    "\n",
    "# Print the full output\n",
    "print(f'nfev:{result.nfev}')\n",
    "print(\"Numerical Solution:\", result.x)\n",
    "print(f'Ratio Fx/Fz = {force_aero_xwind/force_aero_zwind:.2f}')\n"
   ]
  },
  {
   "cell_type": "code",
   "execution_count": null,
   "metadata": {},
   "outputs": [],
   "source": []
  }
 ],
 "metadata": {
  "kernelspec": {
   "display_name": "Python 3",
   "language": "python",
   "name": "python3"
  },
  "language_info": {
   "codemirror_mode": {
    "name": "ipython",
    "version": 3
   },
   "file_extension": ".py",
   "mimetype": "text/x-python",
   "name": "python",
   "nbconvert_exporter": "python",
   "pygments_lexer": "ipython3",
   "version": "3.11.5"
  },
  "orig_nbformat": 4
 },
 "nbformat": 4,
 "nbformat_minor": 2
}
